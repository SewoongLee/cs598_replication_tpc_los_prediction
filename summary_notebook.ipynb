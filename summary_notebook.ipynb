{
 "cells": [
  {
   "cell_type": "markdown",
   "id": "faafad2f",
   "metadata": {},
   "source": [
    "# Notebook of Summary, Visualization, and Illustration"
   ]
  },
  {
   "cell_type": "markdown",
   "id": "cf911004",
   "metadata": {},
   "source": [
    "## 1. Summary of the Paper"
   ]
  },
  {
   "cell_type": "markdown",
   "id": "6b2fb883",
   "metadata": {},
   "source": [
    "Prediction of in-patient **length of stay (LoS)** is an important and difficult task - as it accounts for about 90% of inter-patient variation in hospital costs in the US, and is also associated with more serious outcomes like infections and fatality. Prediction of good length of stay estimates promises various benefits:\n",
    " - Increased accuracy of predictions, which can enable more sophisticated planning strategies.\n",
    " - Reduced administrative burden on clinicians,freeing them up to focus on patient care.\n",
    " - Improved patient experiences, as patients are more likely to be discharged on time and have a better understanding of their discharge date.\n",
    " \n",
    "However, there are many challenges in gathering the data required and developing models for making these predictions. Rocheteau et al. (2020) proposes a new model - Temporal Pointwise Convolution (TPC) - which aims to mitigate challenges with EHR data, such as data skew, missing data, and irregular sampling. The model claims to provide a significant performance benefit of 18-68% over LSTM networks and Transformers."
   ]
  },
  {
   "cell_type": "markdown",
   "id": "5179bc44",
   "metadata": {},
   "source": [
    "## 2. Overview of the Data"
   ]
  },
  {
   "cell_type": "code",
   "execution_count": 1,
   "id": "ca0fdfea",
   "metadata": {},
   "outputs": [],
   "source": [
    "import numpy as np\n",
    "import torch\n",
    "import matplotlib.pyplot as plt\n",
    "from eICU_preprocessing.reader import eICUReader\n",
    "from MIMIC_preprocessing.reader import MIMICReader\n",
    "from eICU_preprocessing.run_all_preprocessing import eICU_path\n",
    "from MIMIC_preprocessing.run_all_preprocessing import MIMIC_path"
   ]
  },
  {
   "cell_type": "code",
   "execution_count": 2,
   "id": "a75aa5d5",
   "metadata": {},
   "outputs": [],
   "source": [
    "if torch.cuda.is_available():\n",
    "    device = torch.device('cuda')\n",
    "else:\n",
    "    device = torch.device('cpu')"
   ]
  },
  {
   "cell_type": "code",
   "execution_count": 3,
   "id": "a4111e8d",
   "metadata": {},
   "outputs": [
    {
     "data": {
      "text/plain": [
       "('D:/datasets/eicu/', 'D:/datasets/mimic-iv-0.4/')"
      ]
     },
     "execution_count": 3,
     "metadata": {},
     "output_type": "execute_result"
    }
   ],
   "source": [
    "eICU_path, MIMIC_path"
   ]
  },
  {
   "cell_type": "code",
   "execution_count": 4,
   "id": "9e13666e",
   "metadata": {},
   "outputs": [],
   "source": [
    "eicu_reader = eICUReader(eICU_path + 'train', device = device)\n",
    "mimic_reader = MIMICReader(MIMIC_path + 'train', device = device)"
   ]
  },
  {
   "cell_type": "markdown",
   "id": "a0de791c",
   "metadata": {},
   "source": [
    "### 2.1. Length of Stay Distribution"
   ]
  },
  {
   "cell_type": "markdown",
   "id": "b86bc051",
   "metadata": {},
   "source": [
    "#### 2.1.1. eICU"
   ]
  },
  {
   "cell_type": "code",
   "execution_count": 5,
   "id": "2b6c75f7",
   "metadata": {},
   "outputs": [
    {
     "name": "stdout",
     "output_type": "stream",
     "text": [
      "Data Count:  102749\n"
     ]
    },
    {
     "data": {
      "image/png": "[encoded data removed]",
      "text/plain": [
       "<Figure size 432x288 with 1 Axes>"
      ]
     },
     "metadata": {
      "needs_background": "light"
     },
     "output_type": "display_data"
    }
   ],
   "source": [
    "plt.hist(eicu_reader.labels.actualiculos, bins=1000)\n",
    "plt.xlim([0,20])\n",
    "print(\"Data Count: \", len(eicu_reader.labels.actualiculos))\n",
    "plt.show()"
   ]
  },
  {
   "cell_type": "markdown",
   "id": "a5aeed79",
   "metadata": {},
   "source": [
    "#### 2.1.2. MIMIC-IV"
   ]
  },
  {
   "cell_type": "code",
   "execution_count": 6,
   "id": "36b52c92",
   "metadata": {},
   "outputs": [
    {
     "name": "stdout",
     "output_type": "stream",
     "text": [
      "Data Count:  48848\n"
     ]
    },
    {
     "data": {
      "image/png": "[encoded data removed]",
      "text/plain": [
       "<Figure size 432x288 with 1 Axes>"
      ]
     },
     "metadata": {
      "needs_background": "light"
     },
     "output_type": "display_data"
    }
   ],
   "source": [
    "plt.hist(mimic_reader.labels.actualiculos, bins=1000)\n",
    "plt.xlim([0,20])\n",
    "print(\"Data Count: \", len(mimic_reader.labels.actualiculos))\n",
    "plt.show()"
   ]
  },
  {
   "cell_type": "markdown",
   "id": "bb12a5e5",
   "metadata": {},
   "source": [
    "MIMIC-IV has less data than eICU, but overall shape is similar."
   ]
  },
  {
   "cell_type": "markdown",
   "id": "b8112320",
   "metadata": {},
   "source": [
    "## 3. Overview of the Methods and Experiments"
   ]
  },
  {
   "cell_type": "markdown",
   "id": "6f014aff",
   "metadata": {},
   "source": [
    "### 3.1. Code Examples"
   ]
  },
  {
   "cell_type": "code",
   "execution_count": 7,
   "id": "1b15a8e6",
   "metadata": {},
   "outputs": [],
   "source": [
    "import time"
   ]
  },
  {
   "cell_type": "markdown",
   "id": "f542f97c",
   "metadata": {},
   "source": [
    "**TPC Model Type**\n",
    " - `tpc` : Temporal Pointwise Convolution\n",
    " - `temp_only` : Temporal Convolution Only\n",
    " - `pointwise_only` : Pointwise Convolution Only"
   ]
  },
  {
   "cell_type": "code",
   "execution_count": null,
   "id": "1db3f707",
   "metadata": {},
   "outputs": [],
   "source": [
    "start = time.time()\n",
    "!python -m models.run_tpc --model_type pointwise_only --mode test --n_layers 4 --kernel_size 3 --n_epochs 5\n",
    "end = time.time()\n",
    "print(f\"{(end - start)/60:.2f} min\")"
   ]
  },
  {
   "cell_type": "code",
   "execution_count": null,
   "id": "0b0e774a",
   "metadata": {},
   "outputs": [],
   "source": [
    "start = time.time()\n",
    "!python -m models.run_tpc --model_type temp_only --mode test --n_layers 4 --kernel_size 3 --n_epochs 5\n",
    "end = time.time()\n",
    "print(f\"{(end - start)/60:.2f} min\")"
   ]
  },
  {
   "cell_type": "code",
   "execution_count": null,
   "id": "cd7e5937",
   "metadata": {},
   "outputs": [],
   "source": [
    "start = time.time()\n",
    "!python -m models.run_tpc --model_type tpc --mode test --n_layers 4 --kernel_size 3 --n_epochs 5\n",
    "end = time.time()\n",
    "print(f\"{(end - start)/60:.2f} min\")"
   ]
  },
  {
   "cell_type": "code",
   "execution_count": null,
   "id": "7bdfe6a3",
   "metadata": {},
   "outputs": [],
   "source": [
    "start = time.time()\n",
    "!python -m models.run_lstm --mode test --n_layers 4 --n_epochs 5\n",
    "end = time.time()\n",
    "print(f\"{(end - start)/60:.2f} min\")"
   ]
  },
  {
   "cell_type": "code",
   "execution_count": null,
   "id": "bfe895f4",
   "metadata": {},
   "outputs": [],
   "source": [
    "start = time.time()\n",
    "!python -m models.run_transformer --mode test --n_layers 4 --n_epochs 5 --feedforward_size 64\n",
    "end = time.time()\n",
    "print(f\"{(end - start)/60:.2f} min\")"
   ]
  },
  {
   "cell_type": "markdown",
   "id": "d6d4ee60",
   "metadata": {},
   "source": [
    "## 4. Summary of the Key Results"
   ]
  },
  {
   "cell_type": "code",
   "execution_count": null,
   "id": "d9f30e9a",
   "metadata": {},
   "outputs": [],
   "source": []
  },
  {
   "cell_type": "markdown",
   "id": "aef45fe1",
   "metadata": {},
   "source": [
    "## References\n",
    " - link1\n",
    " - link2\n",
    " - ..."
   ]
  },
  {
   "cell_type": "code",
   "execution_count": null,
   "id": "889a38bf",
   "metadata": {},
   "outputs": [],
   "source": []
  },
  {
   "cell_type": "code",
   "execution_count": null,
   "id": "e9ce171b",
   "metadata": {},
   "outputs": [],
   "source": []
  }
 ],
 "metadata": {
  "kernelspec": {
   "display_name": "Python 3",
   "language": "python",
   "name": "python3"
  },
  "language_info": {
   "codemirror_mode": {
    "name": "ipython",
    "version": 3
   },
   "file_extension": ".py",
   "mimetype": "text/x-python",
   "name": "python",
   "nbconvert_exporter": "python",
   "pygments_lexer": "ipython3",
   "version": "3.6.8"
  }
 },
 "nbformat": 4,
 "nbformat_minor": 5
}
